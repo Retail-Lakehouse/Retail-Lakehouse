{
  "nbformat": 4,
  "nbformat_minor": 0,
  "metadata": {
    "colab": {
      "provenance": []
    },
    "kernelspec": {
      "name": "python3",
      "display_name": "Python 3"
    },
    "language_info": {
      "name": "python"
    }
  },
  "cells": [
    {
      "cell_type": "code",
      "execution_count": 51,
      "metadata": {
        "id": "1pBlpFJvFp9Z",
        "colab": {
          "base_uri": "https://localhost:8080/",
          "height": 34
        },
        "outputId": "57f301a2-a692-45f7-bba4-e1a9b810bb3a"
      },
      "outputs": [
        {
          "output_type": "display_data",
          "data": {
            "text/plain": [
              "<IPython.core.display.Javascript object>"
            ],
            "application/javascript": [
              "\n",
              "    async function download(id, filename, size) {\n",
              "      if (!google.colab.kernel.accessAllowed) {\n",
              "        return;\n",
              "      }\n",
              "      const div = document.createElement('div');\n",
              "      const label = document.createElement('label');\n",
              "      label.textContent = `Downloading \"${filename}\": `;\n",
              "      div.appendChild(label);\n",
              "      const progress = document.createElement('progress');\n",
              "      progress.max = size;\n",
              "      div.appendChild(progress);\n",
              "      document.body.appendChild(div);\n",
              "\n",
              "      const buffers = [];\n",
              "      let downloaded = 0;\n",
              "\n",
              "      const channel = await google.colab.kernel.comms.open(id);\n",
              "      // Send a message to notify the kernel that we're ready.\n",
              "      channel.send({})\n",
              "\n",
              "      for await (const message of channel.messages) {\n",
              "        // Send a message to notify the kernel that we're ready.\n",
              "        channel.send({})\n",
              "        if (message.buffers) {\n",
              "          for (const buffer of message.buffers) {\n",
              "            buffers.push(buffer);\n",
              "            downloaded += buffer.byteLength;\n",
              "            progress.value = downloaded;\n",
              "          }\n",
              "        }\n",
              "      }\n",
              "      const blob = new Blob(buffers, {type: 'application/binary'});\n",
              "      const a = document.createElement('a');\n",
              "      a.href = window.URL.createObjectURL(blob);\n",
              "      a.download = filename;\n",
              "      div.appendChild(a);\n",
              "      a.click();\n",
              "      div.remove();\n",
              "    }\n",
              "  "
            ]
          },
          "metadata": {}
        },
        {
          "output_type": "display_data",
          "data": {
            "text/plain": [
              "<IPython.core.display.Javascript object>"
            ],
            "application/javascript": [
              "download(\"download_9d67ac0a-dd74-46d5-9208-6c933bc3c504\", \"olist_order_items_dataset.parquet\", 6190302)"
            ]
          },
          "metadata": {}
        }
      ],
      "source": [
        "#Using Pandas to convert to parquet\n",
        "import pandas as pd\n",
        "\n",
        "# Read the CSV file into a DataFrame\n",
        "df = pd.read_csv('/content/olist_order_items_dataset.csv')\n",
        "\n",
        "# Write the DataFrame to a Parquet file in Colab's filesystem\n",
        "parquet_filename = 'olist_order_items_dataset.parquet'\n",
        "df.to_parquet(parquet_filename)\n",
        "\n",
        "# Download the Parquet file to your local machine\n",
        "from google.colab import files\n",
        "files.download(parquet_filename)\n"
      ]
    },
    {
      "cell_type": "code",
      "source": [
        "#Using Spark to convert to parquet\n",
        "!pip install pyspark\n",
        "from pyspark.sql import SparkSession\n",
        "\n",
        "spark = SparkSession.builder.appName('CSVtoParquet').getOrCreate()\n",
        "\n",
        "csv_file = 'olist_order_items_dataset.csv'\n",
        "parquet_file = 'output.parquet'\n",
        "\n",
        "df = spark.read.csv(csv_file, header=True, inferSchema=True)\n",
        "df.write.parquet(parquet_file,mode=\"overwrite\")\n",
        "\n",
        "import shutil\n",
        "destination_directory = destination_directory = 'C:\\\\Users\\\\kanakpandit17\\\\Desktop'  # Specify your desired directory path\n",
        "shutil.move(parquet_filename, destination_directory + parquet_filename)\n"
      ],
      "metadata": {
        "id": "qcO-IpozGQa6",
        "colab": {
          "base_uri": "https://localhost:8080/",
          "height": 90
        },
        "outputId": "30a402ba-6652-45ae-da0d-91b2a2894c6b"
      },
      "execution_count": 52,
      "outputs": [
        {
          "output_type": "stream",
          "name": "stdout",
          "text": [
            "Requirement already satisfied: pyspark in /usr/local/lib/python3.10/dist-packages (3.4.1)\n",
            "Requirement already satisfied: py4j==0.10.9.7 in /usr/local/lib/python3.10/dist-packages (from pyspark) (0.10.9.7)\n"
          ]
        },
        {
          "output_type": "execute_result",
          "data": {
            "text/plain": [
              "'C:\\\\Users\\\\kanakpandit17\\\\Desktopolist_order_items_dataset.parquet'"
            ],
            "application/vnd.google.colaboratory.intrinsic+json": {
              "type": "string"
            }
          },
          "metadata": {},
          "execution_count": 52
        }
      ]
    },
    {
      "cell_type": "code",
      "source": [
        "!pip install fastavro\n",
        "!pip install fastavro pandas\n"
      ],
      "metadata": {
        "id": "GW-pHZo1LGcg",
        "colab": {
          "base_uri": "https://localhost:8080/"
        },
        "outputId": "562c2617-5e81-4e1c-fdee-a4d78e28319b"
      },
      "execution_count": 53,
      "outputs": [
        {
          "output_type": "stream",
          "name": "stdout",
          "text": [
            "Requirement already satisfied: fastavro in /usr/local/lib/python3.10/dist-packages (1.8.2)\n",
            "Requirement already satisfied: fastavro in /usr/local/lib/python3.10/dist-packages (1.8.2)\n",
            "Requirement already satisfied: pandas in /usr/local/lib/python3.10/dist-packages (1.5.3)\n",
            "Requirement already satisfied: python-dateutil>=2.8.1 in /usr/local/lib/python3.10/dist-packages (from pandas) (2.8.2)\n",
            "Requirement already satisfied: pytz>=2020.1 in /usr/local/lib/python3.10/dist-packages (from pandas) (2023.3)\n",
            "Requirement already satisfied: numpy>=1.21.0 in /usr/local/lib/python3.10/dist-packages (from pandas) (1.23.5)\n",
            "Requirement already satisfied: six>=1.5 in /usr/local/lib/python3.10/dist-packages (from python-dateutil>=2.8.1->pandas) (1.16.0)\n"
          ]
        }
      ]
    },
    {
      "cell_type": "code",
      "source": [
        "#Convert to Avro\n",
        "import csv\n",
        "import fastavro\n",
        "\n",
        "# Specify input and output file paths\n",
        "csv_file_path = '/content/olist_order_items_dataset.csv'\n",
        "avro_file_path = 'avro_file.avro'\n",
        "\n",
        "# Read CSV and convert to Avro\n",
        "with open(csv_file_path, 'r', newline='') as csv_file:\n",
        "    csv_reader = csv.DictReader(csv_file)\n",
        "    avro_schema = fastavro.parse_schema({\n",
        "        'type': 'record',\n",
        "        'name': 'CSVData',\n",
        "        'fields': [{'name': field, 'type': 'string'} for field in csv_reader.fieldnames]\n",
        "    })\n",
        "\n",
        "    with open(avro_file_path, 'wb') as avro_file:\n",
        "        writer = fastavro.writer(avro_file, avro_schema, csv_reader)\n",
        "        for row in csv_reader:\n",
        "            writer.write(row)\n",
        "\n",
        "from google.colab import files\n",
        "\n",
        "# Download the Avro file to your local machine\n",
        "files.download(avro_file_path)\n",
        "\n"
      ],
      "metadata": {
        "id": "hnTEU5CXMtNU",
        "colab": {
          "base_uri": "https://localhost:8080/",
          "height": 34
        },
        "outputId": "f1d4945c-4e44-4b38-b465-cdc5b77c8c75"
      },
      "execution_count": 55,
      "outputs": [
        {
          "output_type": "display_data",
          "data": {
            "text/plain": [
              "<IPython.core.display.Javascript object>"
            ],
            "application/javascript": [
              "\n",
              "    async function download(id, filename, size) {\n",
              "      if (!google.colab.kernel.accessAllowed) {\n",
              "        return;\n",
              "      }\n",
              "      const div = document.createElement('div');\n",
              "      const label = document.createElement('label');\n",
              "      label.textContent = `Downloading \"${filename}\": `;\n",
              "      div.appendChild(label);\n",
              "      const progress = document.createElement('progress');\n",
              "      progress.max = size;\n",
              "      div.appendChild(progress);\n",
              "      document.body.appendChild(div);\n",
              "\n",
              "      const buffers = [];\n",
              "      let downloaded = 0;\n",
              "\n",
              "      const channel = await google.colab.kernel.comms.open(id);\n",
              "      // Send a message to notify the kernel that we're ready.\n",
              "      channel.send({})\n",
              "\n",
              "      for await (const message of channel.messages) {\n",
              "        // Send a message to notify the kernel that we're ready.\n",
              "        channel.send({})\n",
              "        if (message.buffers) {\n",
              "          for (const buffer of message.buffers) {\n",
              "            buffers.push(buffer);\n",
              "            downloaded += buffer.byteLength;\n",
              "            progress.value = downloaded;\n",
              "          }\n",
              "        }\n",
              "      }\n",
              "      const blob = new Blob(buffers, {type: 'application/binary'});\n",
              "      const a = document.createElement('a');\n",
              "      a.href = window.URL.createObjectURL(blob);\n",
              "      a.download = filename;\n",
              "      div.appendChild(a);\n",
              "      a.click();\n",
              "      div.remove();\n",
              "    }\n",
              "  "
            ]
          },
          "metadata": {}
        },
        {
          "output_type": "display_data",
          "data": {
            "text/plain": [
              "<IPython.core.display.Javascript object>"
            ],
            "application/javascript": [
              "download(\"download_8d17ef51-1f50-4d9b-a584-c08e37e38b30\", \"avro_file.avro\", 14524038)"
            ]
          },
          "metadata": {}
        }
      ]
    },
    {
      "cell_type": "code",
      "source": [
        "#Convert to JSON\n",
        "import pandas as pd\n",
        "from google.colab import files\n",
        "\n",
        "# Read the CSV file into a DataFrame\n",
        "csv_file = '/content/olist_order_items_dataset.csv'\n",
        "df = pd.read_csv(csv_file)\n",
        "\n",
        "# Convert DataFrame to JSON and save it\n",
        "json_filename = 'output.json'\n",
        "df.to_json(json_filename, orient='records')\n",
        "\n",
        "# Download the JSON file to your local machine\n",
        "files.download(json_filename)\n"
      ],
      "metadata": {
        "id": "bCHAIeAuM6kP",
        "colab": {
          "base_uri": "https://localhost:8080/",
          "height": 34
        },
        "outputId": "4530ed07-979f-44a0-ef0c-c2b9fa0cacaa"
      },
      "execution_count": 56,
      "outputs": [
        {
          "output_type": "display_data",
          "data": {
            "text/plain": [
              "<IPython.core.display.Javascript object>"
            ],
            "application/javascript": [
              "\n",
              "    async function download(id, filename, size) {\n",
              "      if (!google.colab.kernel.accessAllowed) {\n",
              "        return;\n",
              "      }\n",
              "      const div = document.createElement('div');\n",
              "      const label = document.createElement('label');\n",
              "      label.textContent = `Downloading \"${filename}\": `;\n",
              "      div.appendChild(label);\n",
              "      const progress = document.createElement('progress');\n",
              "      progress.max = size;\n",
              "      div.appendChild(progress);\n",
              "      document.body.appendChild(div);\n",
              "\n",
              "      const buffers = [];\n",
              "      let downloaded = 0;\n",
              "\n",
              "      const channel = await google.colab.kernel.comms.open(id);\n",
              "      // Send a message to notify the kernel that we're ready.\n",
              "      channel.send({})\n",
              "\n",
              "      for await (const message of channel.messages) {\n",
              "        // Send a message to notify the kernel that we're ready.\n",
              "        channel.send({})\n",
              "        if (message.buffers) {\n",
              "          for (const buffer of message.buffers) {\n",
              "            buffers.push(buffer);\n",
              "            downloaded += buffer.byteLength;\n",
              "            progress.value = downloaded;\n",
              "          }\n",
              "        }\n",
              "      }\n",
              "      const blob = new Blob(buffers, {type: 'application/binary'});\n",
              "      const a = document.createElement('a');\n",
              "      a.href = window.URL.createObjectURL(blob);\n",
              "      a.download = filename;\n",
              "      div.appendChild(a);\n",
              "      a.click();\n",
              "      div.remove();\n",
              "    }\n",
              "  "
            ]
          },
          "metadata": {}
        },
        {
          "output_type": "display_data",
          "data": {
            "text/plain": [
              "<IPython.core.display.Javascript object>"
            ],
            "application/javascript": [
              "download(\"download_60b020e4-9fda-458a-9819-dd6c29984018\", \"output.json\", 26739743)"
            ]
          },
          "metadata": {}
        }
      ]
    }
  ]
}